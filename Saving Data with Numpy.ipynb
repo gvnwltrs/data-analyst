{
 "cells": [
  {
   "cell_type": "code",
   "execution_count": 25,
   "id": "62a6f942",
   "metadata": {},
   "outputs": [],
   "source": [
    "import numpy as np"
   ]
  },
  {
   "cell_type": "markdown",
   "id": "a9255410",
   "metadata": {},
   "source": [
    "## np.savez()"
   ]
  },
  {
   "cell_type": "code",
   "execution_count": 26,
   "id": "cff6d4ff",
   "metadata": {},
   "outputs": [],
   "source": [
    "lending_co = np.genfromtxt(\"Lending-Company-Numeric-Data.csv\", \n",
    "                           delimiter = ',',\n",
    "                           dtype = str)\n",
    "\n",
    "lending_data_save = np.load('Lending-Company-Saving.npy')"
   ]
  },
  {
   "cell_type": "code",
   "execution_count": 27,
   "id": "cb2fea61",
   "metadata": {},
   "outputs": [],
   "source": [
    "np.savez(\"Lending-Company-Saving\", lending_co, lending_data_save)"
   ]
  },
  {
   "cell_type": "code",
   "execution_count": 28,
   "id": "f7ad5397",
   "metadata": {},
   "outputs": [],
   "source": [
    "lending_data_savez = np.load('Lending-Company-Saving.npz')"
   ]
  },
  {
   "cell_type": "code",
   "execution_count": 31,
   "id": "832b00d8",
   "metadata": {},
   "outputs": [
    {
     "name": "stdout",
     "output_type": "stream",
     "text": [
      "[['2000' '40' '365' '3121' '4241' '13621']\n",
      " ['2000' '40' '365' '3061' '4171' '15041']\n",
      " ['1000' '40' '365' '2160' '3280' '15340']\n",
      " ...\n",
      " ['2000' '40' '365' '4201' '5001' '16600']\n",
      " ['1000' '40' '365' '2080' '3320' '15600']\n",
      " ['2000' '40' '365' '4601' '4601' '16600']]\n"
     ]
    }
   ],
   "source": [
    "print(lending_data_savez[\"arr_1\"])"
   ]
  },
  {
   "cell_type": "code",
   "execution_count": 32,
   "id": "6e010812",
   "metadata": {},
   "outputs": [],
   "source": [
    "np.savez(\"Lending-Company-Saving\", company = lending_co, data_save = lending_data_save)"
   ]
  },
  {
   "cell_type": "code",
   "execution_count": 33,
   "id": "151e957c",
   "metadata": {},
   "outputs": [],
   "source": [
    "lending_data_savez = np.load(\"Lending-Company-Saving.npz\")"
   ]
  },
  {
   "cell_type": "code",
   "execution_count": 34,
   "id": "a1c8d0f3",
   "metadata": {},
   "outputs": [
    {
     "data": {
      "text/plain": [
       "['company', 'data_save']"
      ]
     },
     "execution_count": 34,
     "metadata": {},
     "output_type": "execute_result"
    }
   ],
   "source": [
    "lending_data_savez.files"
   ]
  },
  {
   "cell_type": "code",
   "execution_count": 35,
   "id": "00228681",
   "metadata": {},
   "outputs": [
    {
     "name": "stdout",
     "output_type": "stream",
     "text": [
      "[['2000' '40' '365' '3121' '4241' '13621']\n",
      " ['2000' '40' '365' '3061' '4171' '15041']\n",
      " ['1000' '40' '365' '2160' '3280' '15340']\n",
      " ...\n",
      " ['2000' '40' '365' '4201' '5001' '16600']\n",
      " ['1000' '40' '365' '2080' '3320' '15600']\n",
      " ['2000' '40' '365' '4601' '4601' '16600']]\n"
     ]
    }
   ],
   "source": [
    "print(lending_data_savez[\"data_save\"])"
   ]
  },
  {
   "cell_type": "code",
   "execution_count": null,
   "id": "1e73dcfb",
   "metadata": {},
   "outputs": [],
   "source": []
  }
 ],
 "metadata": {
  "kernelspec": {
   "display_name": "Python 3 (ipykernel)",
   "language": "python",
   "name": "python3"
  },
  "language_info": {
   "codemirror_mode": {
    "name": "ipython",
    "version": 3
   },
   "file_extension": ".py",
   "mimetype": "text/x-python",
   "name": "python",
   "nbconvert_exporter": "python",
   "pygments_lexer": "ipython3",
   "version": "3.9.13"
  }
 },
 "nbformat": 4,
 "nbformat_minor": 5
}
