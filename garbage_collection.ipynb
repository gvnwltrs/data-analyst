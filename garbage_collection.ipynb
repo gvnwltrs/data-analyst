{
 "cells": [
  {
   "cell_type": "code",
   "execution_count": 32,
   "id": "a9317a34",
   "metadata": {},
   "outputs": [],
   "source": [
    "import ctypes"
   ]
  },
  {
   "cell_type": "code",
   "execution_count": 33,
   "id": "77e51583",
   "metadata": {},
   "outputs": [],
   "source": [
    "import gc"
   ]
  },
  {
   "cell_type": "code",
   "execution_count": 34,
   "id": "2a7ef5b3",
   "metadata": {},
   "outputs": [],
   "source": [
    "def ref_count(address):\n",
    "    return ctypes.c_long.from_address(address).value"
   ]
  },
  {
   "cell_type": "code",
   "execution_count": 35,
   "id": "ce01c536",
   "metadata": {},
   "outputs": [],
   "source": [
    "def object_by_id(object_id):\n",
    "    for obj in gc.get_objects():\n",
    "        if id(obj) == object_id:\n",
    "            return \"Object exists\"\n",
    "        return \"Not Found\""
   ]
  },
  {
   "cell_type": "code",
   "execution_count": 36,
   "id": "736db68e",
   "metadata": {},
   "outputs": [],
   "source": [
    "class A:\n",
    "    def __init__(self):\n",
    "        self.b = B(self)\n",
    "        print(\"A: self: {0}, b: {1}\".format(hex(id(self)), hex(id(self.b))))"
   ]
  },
  {
   "cell_type": "code",
   "execution_count": 37,
   "id": "1d191307",
   "metadata": {},
   "outputs": [],
   "source": [
    "class B:\n",
    "    def __init__(self, a):\n",
    "        self.a = a\n",
    "        print(\"B: self: {0}, a: {1}\".format(hex(id(self)), hex(id(self.a))))"
   ]
  },
  {
   "cell_type": "code",
   "execution_count": 38,
   "id": "03775f7c",
   "metadata": {},
   "outputs": [],
   "source": [
    "gc.disable()"
   ]
  },
  {
   "cell_type": "code",
   "execution_count": 39,
   "id": "b7e0a374",
   "metadata": {},
   "outputs": [
    {
     "name": "stdout",
     "output_type": "stream",
     "text": [
      "B: self: 0x7f9f2462ea60, a: 0x7f9f2462e6d0\n",
      "A: self: 0x7f9f2462e6d0, b: 0x7f9f2462ea60\n"
     ]
    }
   ],
   "source": [
    "my_var = A()"
   ]
  },
  {
   "cell_type": "code",
   "execution_count": 40,
   "id": "a1c8269c",
   "metadata": {},
   "outputs": [
    {
     "data": {
      "text/plain": [
       "'0x7f9f2462e6d0'"
      ]
     },
     "execution_count": 40,
     "metadata": {},
     "output_type": "execute_result"
    }
   ],
   "source": [
    "hex(id(my_var))"
   ]
  },
  {
   "cell_type": "code",
   "execution_count": 41,
   "id": "941f4965",
   "metadata": {},
   "outputs": [
    {
     "name": "stdout",
     "output_type": "stream",
     "text": [
      "<__main__.B object at 0x7f9f2462ea60>\n"
     ]
    }
   ],
   "source": [
    "print(my_var.b)"
   ]
  },
  {
   "cell_type": "code",
   "execution_count": 42,
   "id": "6186d077",
   "metadata": {},
   "outputs": [
    {
     "name": "stdout",
     "output_type": "stream",
     "text": [
      "0x7f9f2462ea60\n",
      "0x7f9f2462e6d0\n"
     ]
    }
   ],
   "source": [
    "print(hex(id(my_var.b)))\n",
    "print(hex(id(my_var.b.a)))"
   ]
  },
  {
   "cell_type": "code",
   "execution_count": 43,
   "id": "4eedf208",
   "metadata": {},
   "outputs": [],
   "source": [
    "a_id = id(my_var)\n",
    "b_id = id(my_var.b)"
   ]
  },
  {
   "cell_type": "code",
   "execution_count": 44,
   "id": "8d37a21c",
   "metadata": {},
   "outputs": [
    {
     "name": "stdout",
     "output_type": "stream",
     "text": [
      "0x7f9f2462e6d0\n",
      "0x7f9f2462ea60\n"
     ]
    }
   ],
   "source": [
    "print(hex(a_id))\n",
    "print(hex(b_id))"
   ]
  },
  {
   "cell_type": "code",
   "execution_count": 45,
   "id": "9e4132d6",
   "metadata": {},
   "outputs": [
    {
     "data": {
      "text/plain": [
       "2"
      ]
     },
     "execution_count": 45,
     "metadata": {},
     "output_type": "execute_result"
    }
   ],
   "source": [
    "ref_count(a_id)"
   ]
  },
  {
   "cell_type": "code",
   "execution_count": 46,
   "id": "eb0b91c7",
   "metadata": {},
   "outputs": [
    {
     "data": {
      "text/plain": [
       "1"
      ]
     },
     "execution_count": 46,
     "metadata": {},
     "output_type": "execute_result"
    }
   ],
   "source": [
    "ref_count(b_id)"
   ]
  },
  {
   "cell_type": "code",
   "execution_count": null,
   "id": "51fd8725",
   "metadata": {},
   "outputs": [],
   "source": []
  }
 ],
 "metadata": {
  "kernelspec": {
   "display_name": "Python 3 (ipykernel)",
   "language": "python",
   "name": "python3"
  },
  "language_info": {
   "codemirror_mode": {
    "name": "ipython",
    "version": 3
   },
   "file_extension": ".py",
   "mimetype": "text/x-python",
   "name": "python",
   "nbconvert_exporter": "python",
   "pygments_lexer": "ipython3",
   "version": "3.9.13"
  }
 },
 "nbformat": 4,
 "nbformat_minor": 5
}
