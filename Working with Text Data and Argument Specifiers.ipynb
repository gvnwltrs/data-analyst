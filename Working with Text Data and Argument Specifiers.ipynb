{
 "cells": [
  {
   "cell_type": "code",
   "execution_count": 4,
   "id": "e5dad813",
   "metadata": {},
   "outputs": [
    {
     "name": "stdout",
     "output_type": "stream",
     "text": [
      "This item is from product category \"B\".\n"
     ]
    }
   ],
   "source": [
    "product_category = ['A', 'B']\n",
    "print('This item is from product category \"%s\".' % product_category[1])"
   ]
  },
  {
   "cell_type": "code",
   "execution_count": 8,
   "id": "756c6cb1",
   "metadata": {},
   "outputs": [
    {
     "name": "stdout",
     "output_type": "stream",
     "text": [
      "This item is from product category \"600\".\n"
     ]
    }
   ],
   "source": [
    "quantities = [500, 600]\n",
    "print('This item is from product category \"%s\".' % quantities[1])"
   ]
  },
  {
   "cell_type": "code",
   "execution_count": null,
   "id": "89ae1f2e",
   "metadata": {},
   "outputs": [],
   "source": []
  }
 ],
 "metadata": {
  "kernelspec": {
   "display_name": "Python 3 (ipykernel)",
   "language": "python",
   "name": "python3"
  },
  "language_info": {
   "codemirror_mode": {
    "name": "ipython",
    "version": 3
   },
   "file_extension": ".py",
   "mimetype": "text/x-python",
   "name": "python",
   "nbconvert_exporter": "python",
   "pygments_lexer": "ipython3",
   "version": "3.9.13"
  }
 },
 "nbformat": 4,
 "nbformat_minor": 5
}
