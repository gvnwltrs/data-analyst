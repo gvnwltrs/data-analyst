{
 "cells": [
  {
   "cell_type": "code",
   "execution_count": 2,
   "id": "a9317a34",
   "metadata": {},
   "outputs": [],
   "source": [
    "import ctypes"
   ]
  },
  {
   "cell_type": "code",
   "execution_count": 3,
   "id": "77e51583",
   "metadata": {},
   "outputs": [],
   "source": [
    "import gc"
   ]
  },
  {
   "cell_type": "code",
   "execution_count": 4,
   "id": "920f2cc8",
   "metadata": {},
   "outputs": [],
   "source": [
    "def ref_count(address):\n",
    "    return cytpes.c_long.from_address(address).value"
   ]
  },
  {
   "cell_type": "code",
   "execution_count": 5,
   "id": "571a41a1",
   "metadata": {},
   "outputs": [],
   "source": [
    "def object_by_id(object_id):\n",
    "    for obj in gc.get_objects():\n",
    "        if id(obj) == object_id:\n",
    "            return \"Object exists\"\n",
    "        return \"Not Found\""
   ]
  },
  {
   "cell_type": "code",
   "execution_count": 6,
   "id": "3afb02bf",
   "metadata": {},
   "outputs": [],
   "source": [
    "class A:\n",
    "    def __init__(self):\n",
    "        self.b = B(self)\n",
    "        print(\"A: self: {0}, b: {1}\".format(hex(id(self)), hex(id(self.b))))"
   ]
  },
  {
   "cell_type": "code",
   "execution_count": 7,
   "id": "2589f676",
   "metadata": {},
   "outputs": [],
   "source": [
    "class B:\n",
    "    def __init__(self, a):\n",
    "        self.a = a\n",
    "        print(\"B: self: {0}, a: {1}\".format(hex(id(self)), hex(id(self.a))))"
   ]
  },
  {
   "cell_type": "code",
   "execution_count": 8,
   "id": "86dd1c94",
   "metadata": {},
   "outputs": [],
   "source": [
    "gc.disable()"
   ]
  },
  {
   "cell_type": "code",
   "execution_count": 9,
   "id": "f1e3df4f",
   "metadata": {},
   "outputs": [
    {
     "name": "stdout",
     "output_type": "stream",
     "text": [
      "B: self: 0x7f9f2462edc0, a: 0x7f9f2462e310\n",
      "A: self: 0x7f9f2462e310, b: 0x7f9f2462edc0\n"
     ]
    }
   ],
   "source": [
    "my_var = A()"
   ]
  },
  {
   "cell_type": "code",
   "execution_count": 10,
   "id": "79406cb3",
   "metadata": {},
   "outputs": [
    {
     "data": {
      "text/plain": [
       "'0x7f9f2462e310'"
      ]
     },
     "execution_count": 10,
     "metadata": {},
     "output_type": "execute_result"
    }
   ],
   "source": [
    "hex(id(my_var))"
   ]
  },
  {
   "cell_type": "code",
   "execution_count": 11,
   "id": "5faec8e7",
   "metadata": {},
   "outputs": [
    {
     "name": "stdout",
     "output_type": "stream",
     "text": [
      "<__main__.B object at 0x7f9f2462edc0>\n"
     ]
    }
   ],
   "source": [
    "print(my_var.b)"
   ]
  },
  {
   "cell_type": "code",
   "execution_count": 13,
   "id": "78cb0b61",
   "metadata": {},
   "outputs": [
    {
     "name": "stdout",
     "output_type": "stream",
     "text": [
      "0x7f9f2462edc0\n",
      "0x7f9f2462e310\n"
     ]
    }
   ],
   "source": [
    "print(hex(id(my_var.b)))\n",
    "print(hex(id(my_var.b.a)))"
   ]
  },
  {
   "cell_type": "code",
   "execution_count": 14,
   "id": "a0400e0d",
   "metadata": {},
   "outputs": [],
   "source": [
    "a_id = id(my_var)\n",
    "b_id = id(my_var.b)"
   ]
  },
  {
   "cell_type": "code",
   "execution_count": null,
   "id": "eb7fffb5",
   "metadata": {},
   "outputs": [],
   "source": []
  }
 ],
 "metadata": {
  "kernelspec": {
   "display_name": "Python 3 (ipykernel)",
   "language": "python",
   "name": "python3"
  },
  "language_info": {
   "codemirror_mode": {
    "name": "ipython",
    "version": 3
   },
   "file_extension": ".py",
   "mimetype": "text/x-python",
   "name": "python",
   "nbconvert_exporter": "python",
   "pygments_lexer": "ipython3",
   "version": "3.9.13"
  }
 },
 "nbformat": 4,
 "nbformat_minor": 5
}
